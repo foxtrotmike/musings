{
  "nbformat": 4,
  "nbformat_minor": 0,
  "metadata": {
    "colab": {
      "provenance": [],
      "authorship_tag": "ABX9TyO0HQMVcwnp0zntqfHUOyMx",
      "include_colab_link": true
    },
    "kernelspec": {
      "name": "python3",
      "display_name": "Python 3"
    },
    "language_info": {
      "name": "python"
    }
  },
  "cells": [
    {
      "cell_type": "markdown",
      "metadata": {
        "id": "view-in-github",
        "colab_type": "text"
      },
      "source": [
        "<a href=\"https://colab.research.google.com/github/foxtrotmike/musings/blob/main/permutation_test_quartiles_dependency.ipynb\" target=\"_parent\"><img src=\"https://colab.research.google.com/assets/colab-badge.svg\" alt=\"Open In Colab\"/></a>"
      ]
    },
    {
      "cell_type": "code",
      "execution_count": 5,
      "metadata": {
        "colab": {
          "base_uri": "https://localhost:8080/",
          "height": 508
        },
        "id": "8uDkovLmU5RO",
        "outputId": "a69d17be-c207-45d3-ae78-ff085203132e"
      },
      "outputs": [
        {
          "output_type": "stream",
          "name": "stdout",
          "text": [
            "Observed Statistic: 0\n",
            "P-value: 0.0\n"
          ]
        },
        {
          "output_type": "display_data",
          "data": {
            "text/plain": [
              "<Figure size 640x480 with 1 Axes>"
            ],
            "image/png": "[encoded data removed]"
          },
          "metadata": {}
        }
      ],
      "source": [
        "import numpy as np\n",
        "import pandas as pd\n",
        "import matplotlib.pyplot as plt\n",
        "\n",
        "# Sample data\n",
        "np.random.seed(42)\n",
        "n_patients = 100\n",
        "m_A = np.random.rand(n_patients)\n",
        "m_B = -np.log10(m_A)#  np.random.rand(n_patients) #generating data with a dependency between the two\n",
        "percentiles_A = pd.qcut(m_A, 4, labels=[\"Q1\", \"Q2\", \"Q3\", \"Q4\"])\n",
        "percentiles_B = pd.qcut(m_B, 4, labels=[\"Q1\", \"Q2\", \"Q3\", \"Q4\"])\n",
        "\n",
        "# Function to calculate the observed statistic\n",
        "def observed_statistic(percentiles_A, percentiles_B):\n",
        "    count = sum(percentiles_A == percentiles_B)\n",
        "    return count\n",
        "\n",
        "# Calculate the observed statistic\n",
        "obs_stat = observed_statistic(percentiles_A, percentiles_B)\n",
        "\n",
        "# Perform permutation test\n",
        "n_permutations = 10000\n",
        "perm_stats = []\n",
        "\n",
        "for _ in range(n_permutations):\n",
        "    permuted_B = np.random.permutation(percentiles_B)\n",
        "    perm_stat = observed_statistic(percentiles_A, permuted_B)\n",
        "    perm_stats.append(perm_stat)\n",
        "\n",
        "# Calculate p-value\n",
        "perm_stats = np.array(perm_stats)\n",
        "p_value_r = np.sum(perm_stats >= obs_stat) / n_permutations\n",
        "p_value_l = np.sum(perm_stats <= obs_stat) / n_permutations\n",
        "p_value = 2*np.min((p_value_r,p_value_l))\n",
        "# Display results\n",
        "print(f\"Observed Statistic: {obs_stat}\")\n",
        "print(f\"P-value: {p_value}\")\n",
        "\n",
        "# Plot permutation distribution\n",
        "plt.hist(perm_stats, bins=30, alpha=0.75, color='blue', edgecolor='black')\n",
        "plt.axvline(obs_stat, color='red', linestyle='dashed', linewidth=2)\n",
        "plt.title('Permutation Test Distribution')\n",
        "plt.xlabel('Statistic')\n",
        "plt.ylabel('Frequency')\n",
        "plt.show()\n"
      ]
    },
    {
      "cell_type": "code",
      "source": [
        "percentiles_A"
      ],
      "metadata": {
        "colab": {
          "base_uri": "https://localhost:8080/"
        },
        "id": "uPzLBnAsU9I-",
        "outputId": "7b1d5685-9bc6-4b17-82fd-ef5ba4f33c57"
      },
      "execution_count": null,
      "outputs": [
        {
          "output_type": "execute_result",
          "data": {
            "text/plain": [
              "['Q2', 'Q4', 'Q4', 'Q3', 'Q1', ..., 'Q3', 'Q3', 'Q2', 'Q1', 'Q1']\n",
              "Length: 100\n",
              "Categories (4, object): ['Q1' < 'Q2' < 'Q3' < 'Q4']"
            ]
          },
          "metadata": {},
          "execution_count": 3
        }
      ]
    },
    {
      "cell_type": "code",
      "source": [
        "# prompt: calculate the spearman correlation between m_A and m_B\n",
        "\n",
        "import numpy as np\n",
        "from scipy.stats import spearmanr\n",
        "\n",
        "# Calculate the Spearman correlation coefficient\n",
        "corr, pval = spearmanr(m_A, m_B)\n",
        "\n",
        "# Print the results\n",
        "print(f\"Spearman correlation coefficient: {corr}\")\n",
        "print(f\"P-value: {pval}\")\n"
      ],
      "metadata": {
        "id": "INEHj-PGVWQ_",
        "outputId": "cfd41109-548b-42c6-dfae-bf0e89085427",
        "colab": {
          "base_uri": "https://localhost:8080/"
        }
      },
      "execution_count": 6,
      "outputs": [
        {
          "output_type": "stream",
          "name": "stdout",
          "text": [
            "Spearman correlation coefficient: -0.9999999999999999\n",
            "P-value: 0.0\n"
          ]
        }
      ]
    },
    {
      "cell_type": "code",
      "source": [],
      "metadata": {
        "id": "dFY6nB1Wld1f"
      },
      "execution_count": null,
      "outputs": []
    }
  ]
}