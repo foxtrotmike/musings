{
  "nbformat": 4,
  "nbformat_minor": 0,
  "metadata": {
    "colab": {
      "provenance": [],
      "authorship_tag": "ABX9TyPBFk0Hy99BeOl2jxIn1GFJ",
      "include_colab_link": true
    },
    "kernelspec": {
      "name": "python3",
      "display_name": "Python 3"
    },
    "language_info": {
      "name": "python"
    }
  },
  "cells": [
    {
      "cell_type": "markdown",
      "metadata": {
        "id": "view-in-github",
        "colab_type": "text"
      },
      "source": [
        "<a href=\"https://colab.research.google.com/github/foxtrotmike/musings/blob/main/srijay_data.ipynb\" target=\"_parent\"><img src=\"https://colab.research.google.com/assets/colab-badge.svg\" alt=\"Open In Colab\"/></a>"
      ]
    },
    {
      "cell_type": "code",
      "source": [
        "!pip install combat"
      ],
      "metadata": {
        "colab": {
          "base_uri": "https://localhost:8080/"
        },
        "id": "OVfnlBKID5wU",
        "outputId": "3b463bcc-2ec1-45a8-9715-609f29e1aadd"
      },
      "execution_count": 2,
      "outputs": [
        {
          "output_type": "stream",
          "name": "stdout",
          "text": [
            "Collecting combat\n",
            "  Downloading combat-0.3.3.tar.gz (34 kB)\n",
            "  Preparing metadata (setup.py) ... \u001b[?25l\u001b[?25hdone\n",
            "Requirement already satisfied: numpy>=1.18.5 in /usr/local/lib/python3.10/dist-packages (from combat) (1.23.5)\n",
            "Requirement already satisfied: mpmath>=1.1.0 in /usr/local/lib/python3.10/dist-packages (from combat) (1.3.0)\n",
            "Requirement already satisfied: pandas>=0.24.2 in /usr/local/lib/python3.10/dist-packages (from combat) (1.5.3)\n",
            "Requirement already satisfied: patsy>=0.5.1 in /usr/local/lib/python3.10/dist-packages (from combat) (0.5.3)\n",
            "Requirement already satisfied: python-dateutil>=2.8.1 in /usr/local/lib/python3.10/dist-packages (from pandas>=0.24.2->combat) (2.8.2)\n",
            "Requirement already satisfied: pytz>=2020.1 in /usr/local/lib/python3.10/dist-packages (from pandas>=0.24.2->combat) (2023.3.post1)\n",
            "Requirement already satisfied: six in /usr/local/lib/python3.10/dist-packages (from patsy>=0.5.1->combat) (1.16.0)\n",
            "Building wheels for collected packages: combat\n",
            "  Building wheel for combat (setup.py) ... \u001b[?25l\u001b[?25hdone\n",
            "  Created wheel for combat: filename=combat-0.3.3-py3-none-any.whl size=36777 sha256=56a5d146c79772360a21d3aeedb695db454fd640b10c205f06661938751a7161\n",
            "  Stored in directory: /root/.cache/pip/wheels/0d/e4/46/5c7b89d38f5160cf8f2fdda0a52c93439b6e7d9d661e8336f4\n",
            "Successfully built combat\n",
            "Installing collected packages: combat\n",
            "Successfully installed combat-0.3.3\n"
          ]
        }
      ]
    },
    {
      "cell_type": "code",
      "source": [
        "ls sample_data #upload srijaydata.xlsx"
      ],
      "metadata": {
        "colab": {
          "base_uri": "https://localhost:8080/"
        },
        "id": "x44WzxNAEFpd",
        "outputId": "c8d4b913-4557-4d23-daaf-5ff7bb13d5ab"
      },
      "execution_count": 5,
      "outputs": [
        {
          "output_type": "stream",
          "name": "stdout",
          "text": [
            "\u001b[0m\u001b[01;32manscombe.json\u001b[0m*               california_housing_train.csv  mnist_train_small.csv  srijaydata.xlsx\n",
            "california_housing_test.csv  mnist_test.csv                \u001b[01;32mREADME.md\u001b[0m*\n"
          ]
        }
      ]
    },
    {
      "cell_type": "code",
      "source": [
        "# -*- coding: utf-8 -*-\n",
        "\"\"\"\n",
        "Created on Fri Nov 24 01:11:58 2023\n",
        "\n",
        "@author: fayya\n",
        "\"\"\"\n",
        "\n",
        "import pandas as pd\n",
        "\n",
        "df = pd.read_excel(r'./sample_data/srijaydata.xlsx')\n",
        "non_expression = ['Unnamed: 0', 'VisSpot', 'Location_Center_X', 'Location_Center_Y','Unnamed: 43','Unnamed: 42']\n",
        "expression_cols = list(set(df.keys()).difference(non_expression))"
      ],
      "metadata": {
        "id": "lstsryR8EU-f"
      },
      "execution_count": 8,
      "outputs": []
    },
    {
      "cell_type": "code",
      "execution_count": 26,
      "metadata": {
        "id": "8SYK7uw8DbwZ"
      },
      "outputs": [],
      "source": [
        "import numpy as np\n",
        "import matplotlib.pyplot as plt\n",
        "#from sklearn.preprocessing import StandardScaler\n",
        "from sklearn.decomposition import PCA\n",
        "\n",
        "def transform(z):\n",
        "    zlog = np.log10(z[z>0])\n",
        "    p25,p75 = zlog.quantile([0.25,0.75])\n",
        "    def map_to_category(value):\n",
        "        if value < p25:\n",
        "            return 1\n",
        "        elif value <= p75:\n",
        "            return 2\n",
        "        else:\n",
        "            return 3\n",
        "    tzlog = zlog#.apply(map_to_category)\n",
        "    tz = z.copy()\n",
        "    tz[tz>0] = tzlog\n",
        "    return tz\n",
        "def ZSSTransform(z):\n",
        "    zlog = np.log10(z[z>0])\n",
        "    tzlog = (zlog-np.mean(zlog))/np.std(zlog)\n",
        "    tzlog_min = np.min(tzlog)-3 #zero is assumed to be at least 1000 times smaller than the lowest non-zero value\n",
        "    tz = z.copy()\n",
        "    tz[tz>0] = tzlog\n",
        "    tz[tz==0] = tzlog_min\n",
        "    return tz\n",
        "\n",
        "def plot2D(X,C,title = '',xidx=0,yidx=1):\n",
        "\n",
        "    pca = PCA().fit(X)\n",
        "    #plt.figure();plt.plot(np.cumsum(pca.explained_variance_ratio_)); plt.show()\n",
        "    Z = pca.transform(X)\n",
        "\n",
        "\n",
        "    dfZ = pd.DataFrame(Z[:,[xidx,yidx]], columns=['X', 'Y']) #select PCA axes here\n",
        "    dfZ['Group'] = C\n",
        "    import seaborn as sns\n",
        "    #sns.pairplot(data=dfZ, hue='Group')\n",
        "    sns.pairplot(data=dfZ, kind = 'kde',hue='Group')\n",
        "    #sns.kdeplot(data=dfZ, x='X', y='Y', hue='Group', fill=True);\n",
        "    plt.title(title)\n",
        "\n",
        "\n",
        "    \"\"\"\n",
        "    unique_categories = dfZ['Group'].unique()\n",
        "    colors = plt.cm.get_cmap('jet', len(unique_categories))\n",
        "    plt.figure()\n",
        "    for i, category in enumerate(unique_categories):\n",
        "        subset = dfZ[dfZ['Group'] == category]\n",
        "        plt.hexbin(subset['X'], subset['Y'], gridsize=100, cmap=colors, mincnt=10, alpha=0.3, label=category)\n",
        "    import matplotlib.patches as mpatches\n",
        "    legend_handles = [mpatches.Patch(color=colors[i], label=category) for i, category in enumerate(unique_categories)]\n",
        "    plt.legend(handles=legend_handles)\n",
        "    \"\"\"\n",
        "\n",
        "    \"\"\"\n",
        "\n",
        "    plt.figure();plt.hexbin(dfZ.X, dfZ.Y, gridsize=100, cmap='Blues');plt.title(title);    plt.xlabel('PCA-'+str(xidx));plt.ylabel('PCA-'+str(yidx))\n",
        "\n",
        "    # Unique groups for color mapping\n",
        "    groups = dfZ['Group'].unique()\n",
        "    plt.figure()\n",
        "    # Plot\n",
        "    for group in groups:\n",
        "        subset = dfZ[dfZ['Group'] == group]\n",
        "        plt.scatter(subset['X'], subset['Y'], label=group)\n",
        "\n",
        "    # Add legend and labels\n",
        "    plt.legend()\n",
        "    plt.xlabel('PCA-'+str(xidx))\n",
        "    plt.ylabel('PCA-'+str(yidx))\n",
        "    plt.title(title)\n",
        "    plt.show()\n",
        "    \"\"\"\n",
        "\n",
        "def plotHist(X,title=''):\n",
        "\n",
        "    fig, axes = plt.subplots(nrows=3, ncols=13, figsize=(20, 8))\n",
        "    for i, ax in enumerate(axes.flatten()):\n",
        "        if i < len(expression_cols):\n",
        "            c = expression_cols[i]\n",
        "            ax.hist(X[c],density = True);#ax.title(c)\n",
        "            ax.set_title(c)\n",
        "            #ax.axis('off')\n",
        "            ax.yaxis.set_visible(False)\n",
        "        else:\n",
        "            # Hide unused subplots\n",
        "            ax.axis('off')\n",
        "    plt.title(title)\n",
        "    plt.show()\n",
        "\n",
        "#%%\n",
        "\n",
        "\n"
      ]
    },
    {
      "cell_type": "code",
      "source": [
        "#from sklearn.linear_model import LinearRegression\n",
        "X = df[expression_cols][:-1]#last one is nan\n",
        "Xt = X.apply(ZSSTransform)\n",
        "C = df.VisSpot.apply(lambda x: str(x)[-2:])[:-1]#last one is nan\n",
        "C_encoded = pd.get_dummies(C).values\n",
        "#X_corrected = Xt\n",
        "\"\"\"\n",
        "# Correct for batch effects\n",
        "model = LinearRegression()\n",
        "model.fit(C_encoded, X)\n",
        "X_corrected = X - model.predict(C_encoded)\n",
        "\"\"\"\n",
        "from combat.pycombat import pycombat\n",
        "X_corrected = pycombat(Xt.T,C).T"
      ],
      "metadata": {
        "colab": {
          "base_uri": "https://localhost:8080/"
        },
        "id": "at6lDwFGHexv",
        "outputId": "f40fb91d-3b0e-449f-e5cf-5a0e02051221"
      },
      "execution_count": 27,
      "outputs": [
        {
          "output_type": "stream",
          "name": "stdout",
          "text": [
            "Found 3 batches.\n",
            "Adjusting for 0 covariate(s) or covariate level(s).\n",
            "Standardizing Data across genes.\n",
            "Fitting L/S model and finding priors.\n",
            "Finding parametric adjustments.\n",
            "Adjusting the Data\n"
          ]
        }
      ]
    },
    {
      "cell_type": "code",
      "source": [
        "\n",
        "#plotHist(X,'Original');plotHist(Xt,'Transformed');plotHist(X_corrected,'Corrected');\n",
        "plot2D(X,C,'Original');\n",
        "#plot2D(Xt,C,'Transformed');plot2D(X_corrected,C,'Corrected')"
      ],
      "metadata": {
        "id": "qeKBh9rkEZh9"
      },
      "execution_count": null,
      "outputs": []
    },
    {
      "cell_type": "code",
      "source": [
        "plot2D(X_corrected,C,'Corrected')"
      ],
      "metadata": {
        "colab": {
          "base_uri": "https://localhost:8080/",
          "height": 308
        },
        "id": "hInUFCduHkkF",
        "outputId": "9218adb6-6f09-4911-ae4c-66cfca8d8dbb"
      },
      "execution_count": 25,
      "outputs": [
        {
          "output_type": "error",
          "ename": "TypeError",
          "evalue": "ignored",
          "traceback": [
            "\u001b[0;31m---------------------------------------------------------------------------\u001b[0m",
            "\u001b[0;31mTypeError\u001b[0m                                 Traceback (most recent call last)",
            "\u001b[0;32m<ipython-input-25-0f91ea3b9fcb>\u001b[0m in \u001b[0;36m<cell line: 1>\u001b[0;34m()\u001b[0m\n\u001b[0;32m----> 1\u001b[0;31m \u001b[0mplot2D\u001b[0m\u001b[0;34m(\u001b[0m\u001b[0mX_corrected\u001b[0m\u001b[0;34m,\u001b[0m\u001b[0mC\u001b[0m\u001b[0;34m,\u001b[0m\u001b[0;34m'Corrected'\u001b[0m\u001b[0;34m)\u001b[0m\u001b[0;34m\u001b[0m\u001b[0;34m\u001b[0m\u001b[0m\n\u001b[0m",
            "\u001b[0;32m<ipython-input-24-2fe809ad011e>\u001b[0m in \u001b[0;36mplot2D\u001b[0;34m(X, C, title, xidx, yidx)\u001b[0m\n\u001b[1;32m     38\u001b[0m     \u001b[0;32mimport\u001b[0m \u001b[0mseaborn\u001b[0m \u001b[0;32mas\u001b[0m \u001b[0msns\u001b[0m\u001b[0;34m\u001b[0m\u001b[0;34m\u001b[0m\u001b[0m\n\u001b[1;32m     39\u001b[0m     \u001b[0;31m#sns.pairplot(data=dfZ, hue='Group')\u001b[0m\u001b[0;34m\u001b[0m\u001b[0;34m\u001b[0m\u001b[0m\n\u001b[0;32m---> 40\u001b[0;31m     \u001b[0msns\u001b[0m\u001b[0;34m.\u001b[0m\u001b[0mpairplot\u001b[0m\u001b[0;34m(\u001b[0m\u001b[0mdata\u001b[0m\u001b[0;34m=\u001b[0m\u001b[0mdfZ\u001b[0m\u001b[0;34m,\u001b[0m \u001b[0mtype\u001b[0m \u001b[0;34m=\u001b[0m \u001b[0;34m'kde'\u001b[0m\u001b[0;34m,\u001b[0m\u001b[0mhue\u001b[0m\u001b[0;34m=\u001b[0m\u001b[0;34m'Group'\u001b[0m\u001b[0;34m)\u001b[0m\u001b[0;34m\u001b[0m\u001b[0;34m\u001b[0m\u001b[0m\n\u001b[0m\u001b[1;32m     41\u001b[0m     \u001b[0;31m#sns.kdeplot(data=dfZ, x='X', y='Y', hue='Group', fill=True);\u001b[0m\u001b[0;34m\u001b[0m\u001b[0;34m\u001b[0m\u001b[0m\n\u001b[1;32m     42\u001b[0m     \u001b[0mplt\u001b[0m\u001b[0;34m.\u001b[0m\u001b[0mtitle\u001b[0m\u001b[0;34m(\u001b[0m\u001b[0mtitle\u001b[0m\u001b[0;34m)\u001b[0m\u001b[0;34m\u001b[0m\u001b[0;34m\u001b[0m\u001b[0m\n",
            "\u001b[0;31mTypeError\u001b[0m: pairplot() got an unexpected keyword argument 'type'"
          ]
        }
      ]
    },
    {
      "cell_type": "code",
      "source": [],
      "metadata": {
        "id": "_Gem5JehHlsB"
      },
      "execution_count": null,
      "outputs": []
    }
  ]
}